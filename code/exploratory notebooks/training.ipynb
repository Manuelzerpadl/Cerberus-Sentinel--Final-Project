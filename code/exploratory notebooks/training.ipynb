{
 "cells": [
  {
   "cell_type": "code",
   "execution_count": 4,
   "id": "3db25f04",
   "metadata": {
    "scrolled": true
   },
   "outputs": [
    {
     "name": "stdout",
     "output_type": "stream",
     "text": [
      "Successfully uploaded \"xgb_weights.pkl\" to S3 bucket \"source-bucket-fraud-manuel\".\n",
      "Successfully uploaded \"Fraud.csv\" to S3 bucket \"source-bucket-fraud-manuel\".\n"
     ]
    }
   ],
   "source": [
    "import pickle\n",
    "import os\n",
    "import boto3\n",
    "\n",
    "import numpy as np\n",
    "import pandas as pd\n",
    "\n",
    "import xgboost as xgb\n",
    "from sklearn.preprocessing import LabelEncoder\n",
    "from sklearn.model_selection import train_test_split\n",
    "from sklearn.metrics import accuracy_score, confusion_matrix, classification_report\n",
    "from imblearn.over_sampling import SMOTE\n",
    "\n",
    "import warnings\n",
    "warnings.filterwarnings('ignore')\n",
    "\n",
    "AWS_ACCESS_KEY_ID = os.getenv(\"AWS_ACCESS_KEY_ID\")\n",
    "AWS_SECRET_ACCESS_KEY = os.getenv(\"AWS_SECRET_ACCESS_KEY\")\n",
    "\n",
    "s3 = boto3.client('s3', region_name='eu-central-1',\n",
    "                  aws_access_key_id=AWS_ACCESS_KEY_ID,\n",
    "                  aws_secret_access_key=AWS_SECRET_ACCESS_KEY)\n",
    "\n",
    "\n",
    "df = pd.read_csv(r\"C:\\Users\\manue\\OneDrive\\Escritorio\\Ironhack\\Proyectos\\Final-Project\\Data\\Fraud.csv\\Fraud.csv\")\n",
    "df.columns = [col.lower().replace(' ', '_') for col in df.columns]\n",
    "\n",
    "le = LabelEncoder()\n",
    "df['type'] = le.fit_transform(df['type'])\n",
    "#df['namedest'] = le.fit_transform(df['namedest'])\n",
    "\n",
    "X = df.drop(columns=['isfraud', 'namedest', 'nameorig'])\n",
    "y = df['isfraud']\n",
    "\n",
    "over_sample = SMOTE(random_state=0)\n",
    "X,y = over_sample.fit_resample(X,y)\n",
    "\n",
    "\n",
    "X_train, X_test, y_train, y_test = train_test_split(X, y, test_size=0.30, random_state=0)\n",
    "\n",
    "xgb_model = xgb.XGBClassifier()\n",
    "xgb_model.fit(X_train, y_train)\n",
    "\n",
    "y_pred = xgb_model.predict(X_test)\n",
    "\n",
    "\n",
    "bucket = 'source-bucket-fraud-manuel'\n",
    "\n",
    "with open(\"xgb_weights.pkl\", \"wb\") as f:\n",
    "    pickle.dump(xgb_model, f)\n",
    "\n",
    "try:\n",
    "    s3.upload_file(\"xgb_weights.pkl\", bucket, \"xgb_weights.pkl\")\n",
    "    print(f'Successfully uploaded \"xgb_weights.pkl\" to S3 bucket \"{bucket}\".')\n",
    "except Exception as e:\n",
    "    print(f'Error uploading file to S3: {e}')\n",
    "\n",
    "\n",
    "df.to_csv(r\"Fraud.csv\", index=False)\n",
    "try:\n",
    "    s3.upload_file(\"Fraud.csv\", bucket, \"Fraud.csv\")\n",
    "    print(f'Successfully uploaded \"Fraud.csv\" to S3 bucket \"{bucket}\".')\n",
    "except Exception as e:\n",
    "    print(f'Error uploading file to S3: {e}')\n"
   ]
  },
  {
   "cell_type": "code",
   "execution_count": 5,
   "id": "abe57d22",
   "metadata": {},
   "outputs": [
    {
     "name": "stdout",
     "output_type": "stream",
     "text": [
      "Confusion Matrix:\n",
      " [[1902606    3369]\n",
      " [    994 1905676]]\n",
      "Accuracy Score: 0.9988556500801937\n"
     ]
    }
   ],
   "source": [
    "confusion = confusion_matrix(y_test, y_pred)\n",
    "accuracy = accuracy_score(y_test, y_pred)\n",
    "\n",
    "print('Confusion Matrix:\\n', confusion)\n",
    "print('Accuracy Score:', accuracy)"
   ]
  },
  {
   "cell_type": "code",
   "execution_count": null,
   "id": "ce58efc6",
   "metadata": {},
   "outputs": [],
   "source": []
  }
 ],
 "metadata": {
  "kernelspec": {
   "display_name": "Python 3 (ipykernel)",
   "language": "python",
   "name": "python3"
  },
  "language_info": {
   "codemirror_mode": {
    "name": "ipython",
    "version": 3
   },
   "file_extension": ".py",
   "mimetype": "text/x-python",
   "name": "python",
   "nbconvert_exporter": "python",
   "pygments_lexer": "ipython3",
   "version": "3.9.13"
  }
 },
 "nbformat": 4,
 "nbformat_minor": 5
}
