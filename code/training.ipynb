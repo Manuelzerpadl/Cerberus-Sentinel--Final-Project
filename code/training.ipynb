{
 "cells": [
  {
   "cell_type": "code",
   "execution_count": 4,
   "id": "3db25f04",
   "metadata": {
    "scrolled": true
   },
   "outputs": [],
   "source": [
    "import pickle\n",
    "import joblib\n",
    "\n",
    "import numpy as np\n",
    "import pandas as pd\n",
    "\n",
    "import xgboost as xgb\n",
    "from sklearn.preprocessing import LabelEncoder\n",
    "from sklearn.model_selection import train_test_split\n",
    "from sklearn.metrics import accuracy_score, confusion_matrix, classification_report\n",
    "from imblearn.over_sampling import SMOTE\n",
    "\n",
    "import warnings\n",
    "warnings.filterwarnings('ignore')\n",
    "\n",
    "df = pd.read_csv(r\"C:\\Users\\manue\\OneDrive\\Escritorio\\Ironhack\\Proyectos\\Final-Project\\Data\\Fraud.csv\\Fraud.csv\")\n",
    "df.columns = [col.lower().replace(' ', '_') for col in df.columns]\n",
    "df.drop(columns='nameorig', inplace=True)\n",
    "\n",
    "le = LabelEncoder()\n",
    "df['type'] = le.fit_transform(df['type'])\n",
    "df['namedest'] = le.fit_transform(df['namedest'])\n",
    "\n",
    "X = df.drop(columns='isfraud')\n",
    "y = df['isfraud']\n",
    "\n",
    "over_sample = SMOTE(random_state=0)\n",
    "X,y = over_sample.fit_resample(X,y)\n",
    "\n",
    "\n",
    "X_train, X_test, y_train, y_test = train_test_split(X, y, test_size=0.30, random_state=0)\n",
    "\n",
    "xgb_model = xgb.XGBClassifier()\n",
    "xgb_model.fit(X_train, y_train)\n",
    "\n",
    "y_pred = xgb_model.predict(X_test)\n",
    "\n",
    "\n",
    "\n",
    "joblib.dump(xgb_model, \"xgb_weights.pkl\")    \n",
    "df.to_csv(r\"C:\\Users\\manue\\OneDrive\\Escritorio\\Ironhack\\Proyectos\\Final-Project\\Data wrangling\\df.csv\", index=False)"
   ]
  },
  {
   "cell_type": "code",
   "execution_count": null,
   "id": "85368e2b",
   "metadata": {},
   "outputs": [],
   "source": []
  }
 ],
 "metadata": {
  "kernelspec": {
   "display_name": "Python 3 (ipykernel)",
   "language": "python",
   "name": "python3"
  },
  "language_info": {
   "codemirror_mode": {
    "name": "ipython",
    "version": 3
   },
   "file_extension": ".py",
   "mimetype": "text/x-python",
   "name": "python",
   "nbconvert_exporter": "python",
   "pygments_lexer": "ipython3",
   "version": "3.9.13"
  }
 },
 "nbformat": 4,
 "nbformat_minor": 5
}
