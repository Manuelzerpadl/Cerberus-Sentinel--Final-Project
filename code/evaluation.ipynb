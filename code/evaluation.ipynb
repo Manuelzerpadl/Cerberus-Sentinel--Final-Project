{
 "cells": [
  {
   "cell_type": "code",
   "execution_count": 13,
   "id": "67d2b0a8",
   "metadata": {},
   "outputs": [],
   "source": [
    "import joblib\n",
    "import pickle \n",
    "\n",
    "\n",
    "import numpy as np\n",
    "import pandas as pd\n",
    "\n",
    "import xgboost as xgb\n",
    "from sklearn.metrics import confusion_matrix, accuracy_score\n"
   ]
  },
  {
   "cell_type": "code",
   "execution_count": 14,
   "id": "0d2e355e",
   "metadata": {},
   "outputs": [],
   "source": [
    "model = joblib.load(r\"C:\\Users\\manue\\OneDrive\\Escritorio\\Ironhack\\Proyectos\\Final-Project\\code\\xgb_weights.pkl\")\n",
    "# Load the test dataset from a CSV file\n",
    "df = pd.read_csv(r\"C:\\Users\\manue\\OneDrive\\Escritorio\\Ironhack\\Proyectos\\Final-Project\\Data wrangling\\df.csv\")"
   ]
  },
  {
   "cell_type": "code",
   "execution_count": 21,
   "id": "a2a27421",
   "metadata": {},
   "outputs": [],
   "source": [
    "sample_df = df.sample(n=100000, replace=True)"
   ]
  },
  {
   "cell_type": "code",
   "execution_count": 22,
   "id": "089a4536",
   "metadata": {},
   "outputs": [
    {
     "name": "stdout",
     "output_type": "stream",
     "text": [
      "Confusion Matrix:\n",
      " [[99707   168]\n",
      " [    1   124]]\n",
      "Accuracy Score: 0.99831\n"
     ]
    }
   ],
   "source": [
    "# Split the test dataset into input features (X_test) and target variable (y_test)\n",
    "X_test = sample_df.drop('isfraud', axis=1)\n",
    "y_test = sample_df['isfraud']\n",
    "\n",
    "\n",
    "# Make predictions on the test dataset using the trained model\n",
    "y_pred = model.predict(X_test)\n",
    "\n",
    "# Evaluate the accuracy of the model on the test dataset\n",
    "confusion = confusion_matrix(y_test, y_pred)\n",
    "accuracy = accuracy_score(y_test, y_pred)\n",
    "\n",
    "print('Confusion Matrix:\\n', confusion)\n",
    "print('Accuracy Score:', accuracy)"
   ]
  },
  {
   "cell_type": "code",
   "execution_count": null,
   "id": "059a524c",
   "metadata": {},
   "outputs": [],
   "source": []
  }
 ],
 "metadata": {
  "kernelspec": {
   "display_name": "Python 3 (ipykernel)",
   "language": "python",
   "name": "python3"
  },
  "language_info": {
   "codemirror_mode": {
    "name": "ipython",
    "version": 3
   },
   "file_extension": ".py",
   "mimetype": "text/x-python",
   "name": "python",
   "nbconvert_exporter": "python",
   "pygments_lexer": "ipython3",
   "version": "3.9.13"
  }
 },
 "nbformat": 4,
 "nbformat_minor": 5
}
