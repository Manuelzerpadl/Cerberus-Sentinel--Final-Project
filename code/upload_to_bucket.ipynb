{
 "cells": [
  {
   "cell_type": "code",
   "execution_count": 1,
   "id": "2bf3722a",
   "metadata": {},
   "outputs": [],
   "source": [
    "import pandas as pd\n",
    "import boto3\n",
    "import io\n",
    "import datetime\n",
    "import os\n",
    "import base64\n",
    "\n",
    "AWS_ACCESS_KEY_ID = os.getenv(\"AWS_ACCESS_KEY_ID\")\n",
    "AWS_SECRET_ACCESS_KEY = os.getenv(\"AWS_SECRET_ACCESS_KEY\")\n",
    "\n",
    "\n",
    "s3 = boto3.client('s3',\n",
    "                  aws_access_key_id= AWS_ACCESS_KEY_ID,\n",
    "                  aws_secret_access_key= AWS_SECRET_ACCESS_KEY)\n",
    "\n",
    "ec2 = boto3.resource('ec2')\n",
    "\n",
    "\n",
    "\n",
    "def create_sample_data(s3_uri:str):\n",
    "    bucket = s3_uri.split('/')[2]\n",
    "    key = '/'.join(s3_uri.split('/')[3:])\n",
    "\n",
    "    response = s3.get_object(Bucket=bucket, Key=key)\n",
    "    contents = response['Body'].read().decode('utf-8')\n",
    "\n",
    "    df = pd.read_csv(io.StringIO(contents))\n",
    "    return df\n",
    "\n",
    "def upload_sample_data(df, bucket:str):\n",
    "    \n",
    "    df = df.sample(n=200, replace=True)\n",
    "    df.drop(columns='isFraud', inplace=True)\n",
    "\n",
    "    today = datetime.datetime.today()\n",
    "    date_str = today.strftime('%Y-%m-%d')\n",
    "    \n",
    "    csv_string = df.to_csv(index=False)\n",
    "    object_key = f'transaction_{date_str}_fraud.csv'\n",
    "    content_type = \"text/csv\"\n",
    "    s3.put_object(Bucket=bucket, Key=object_key, Body=csv_string, ContentType=content_type)\n",
    "    \n",
    "#df = create_sample_data('s3://fraud-data-manuel/Fraud.csv')\n",
    "#upload_sample_data(df, 'fraud-data-manuel')"
   ]
  },
  {
   "cell_type": "code",
   "execution_count": 11,
   "id": "4b0143a5",
   "metadata": {},
   "outputs": [],
   "source": [
    "import boto3\n",
    "import os\n",
    "\n",
    "def create_ec2(instance_type):\n",
    "    ec2 = boto3.resource('ec2', region_name='eu-central-1')\n",
    "    instances = ec2.create_instances(\n",
    "        ImageId='ami-06616b7884ac98cdd', # Amazon Linux 2 AMI ID\n",
    "        InstanceType=instance_type,\n",
    "        MinCount=1,\n",
    "        MaxCount=1,\n",
    "        UserData=user_data_script\n",
    "    )\n",
    "    instance = instances[0]\n",
    "    return instance.id\n",
    "\n",
    "user_data_script = \"\"\"\n",
    "#!/bin/bash\n",
    "yum update -y\n",
    "yum install -y python3\n",
    "pip install boto3\n",
    "pip install pandas\n",
    "git clone https://github.com/Manuelzerpadl/Final-Project.git\n",
    "python code/ec2_python_script.py\n",
    "\"\"\"\n",
    "\n",
    "instance_id = create_ec2('t2.micro')"
   ]
  },
  {
   "cell_type": "code",
   "execution_count": 10,
   "id": "5970fd92",
   "metadata": {},
   "outputs": [
    {
     "data": {
      "text/plain": [
       "'shutting-down'"
      ]
     },
     "execution_count": 10,
     "metadata": {},
     "output_type": "execute_result"
    }
   ],
   "source": [
    "def destroy_ec2(instance_id):\n",
    "    # destroy the instance created above\n",
    "    instance = ec2.Instance(instance_id)\n",
    "    response = instance.terminate()\n",
    "    return response['TerminatingInstances'][0]['CurrentState']['Name']\n",
    "\n",
    "destroy_ec2(instance_id)"
   ]
  }
 ],
 "metadata": {
  "kernelspec": {
   "display_name": "Python 3 (ipykernel)",
   "language": "python",
   "name": "python3"
  },
  "language_info": {
   "codemirror_mode": {
    "name": "ipython",
    "version": 3
   },
   "file_extension": ".py",
   "mimetype": "text/x-python",
   "name": "python",
   "nbconvert_exporter": "python",
   "pygments_lexer": "ipython3",
   "version": "3.9.13"
  }
 },
 "nbformat": 4,
 "nbformat_minor": 5
}
