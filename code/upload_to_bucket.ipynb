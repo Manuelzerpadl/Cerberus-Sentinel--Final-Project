{
 "cells": [
  {
   "cell_type": "code",
   "execution_count": 16,
   "id": "c928dab7",
   "metadata": {},
   "outputs": [
    {
     "name": "stdout",
     "output_type": "stream",
     "text": [
      "fraud-data-manuel\n",
      "Fraud.csv\n"
     ]
    }
   ],
   "source": [
    "import pandas as pd\n",
    "import boto3\n",
    "import io\n",
    "import datetime\n",
    "import os\n",
    "\n",
    "AWS_ACCESS_KEY_ID = os.getenv(\"AWS_ACCESS_KEY_ID\")\n",
    "AWS_SECRET_ACCESS_KEY = os.getenv(\"AWS_SECRET_ACCESS_KEY\")\n",
    "\n",
    "# Create a boto3 S3 client\n",
    "s3 = boto3.client('s3',\n",
    "                  aws_access_key_id= AWS_ACCESS_KEY_ID,\n",
    "                  aws_secret_access_key= AWS_SECRET_ACCESS_KEY)\n",
    "\n",
    "\n",
    "s3_uri = 's3://fraud-data-manuel/Fraud.csv'\n",
    "\n",
    "# Parse the S3 URI into its components\n",
    "bucket = s3_uri.split('/')[2]\n",
    "key = '/'.join(s3_uri.split('/')[3:])\n",
    "\n",
    "\n",
    "# Retrieve the contents of the CSV file from S3\n",
    "response = s3.get_object(Bucket=bucket, Key=key)\n",
    "contents = response['Body'].read().decode('utf-8')\n",
    "\n",
    "df = pd.read_csv(io.StringIO(contents))"
   ]
  },
  {
   "cell_type": "code",
   "execution_count": 17,
   "id": "98ea988d",
   "metadata": {},
   "outputs": [],
   "source": [
    "df = df.sample(n=200, replace=True)\n",
    "\n",
    "df.drop(columns='isFraud', inplace=True)"
   ]
  },
  {
   "cell_type": "code",
   "execution_count": 18,
   "id": "d799d0b2",
   "metadata": {},
   "outputs": [],
   "source": [
    "today = datetime.datetime.today()\n",
    "date_str = today.strftime('%Y-%m-%d')"
   ]
  },
  {
   "cell_type": "code",
   "execution_count": 12,
   "id": "f947f172",
   "metadata": {
    "scrolled": true
   },
   "outputs": [
    {
     "data": {
      "text/plain": [
       "{'ResponseMetadata': {'RequestId': 'JP8GPJN12JN8F7AY',\n",
       "  'HostId': 'Os8jZThMgwfD7C4eHVA8meq6j85vIOjyrDaCsYuxsQ5SoxyCPTMyKsA/wmTwU5HgHVGAgcHvDZg=',\n",
       "  'HTTPStatusCode': 200,\n",
       "  'HTTPHeaders': {'x-amz-id-2': 'Os8jZThMgwfD7C4eHVA8meq6j85vIOjyrDaCsYuxsQ5SoxyCPTMyKsA/wmTwU5HgHVGAgcHvDZg=',\n",
       "   'x-amz-request-id': 'JP8GPJN12JN8F7AY',\n",
       "   'date': 'Mon, 13 Mar 2023 18:51:11 GMT',\n",
       "   'x-amz-server-side-encryption': 'AES256',\n",
       "   'etag': '\"7f66d551f8b345b36c350e754fa34097\"',\n",
       "   'server': 'AmazonS3',\n",
       "   'content-length': '0'},\n",
       "  'RetryAttempts': 0},\n",
       " 'ETag': '\"7f66d551f8b345b36c350e754fa34097\"',\n",
       " 'ServerSideEncryption': 'AES256'}"
      ]
     },
     "execution_count": 12,
     "metadata": {},
     "output_type": "execute_result"
    }
   ],
   "source": [
    "csv_string = df.to_csv(index=False)\n",
    "\n",
    "object_key = f'transaction_{date_str}_fraud.csv'\n",
    "content_type = \"text/csv\"\n",
    "\n",
    "# Upload the CSV string to S3\n",
    "import pandas as pd\n",
    "import boto3\n",
    "import io\n",
    "import datetime\n",
    "import oss3.put_object(Bucket=bucket, Key=object_key, Body=csv_string, ContentType=content_type)"
   ]
  },
  {
   "cell_type": "code",
   "execution_count": 19,
   "id": "fae20ee1",
   "metadata": {},
   "outputs": [],
   "source": [
    "import pandas as pd\n",
    "import boto3\n",
    "import io\n",
    "import datetime\n",
    "import os\n",
    "\n",
    "AWS_ACCESS_KEY_ID = os.getenv(\"AWS_ACCESS_KEY_ID\")\n",
    "AWS_SECRET_ACCESS_KEY = os.getenv(\"AWS_SECRET_ACCESS_KEY\")\n",
    "\n",
    "\n",
    "s3 = boto3.client('s3',\n",
    "                  aws_access_key_id= AWS_ACCESS_KEY_ID,\n",
    "                  aws_secret_access_key= AWS_SECRET_ACCESS_KEY)\n",
    "\n",
    "\n",
    "\n",
    "def create_sample_data(s3_uri:str):\n",
    "    bucket = s3_uri.split('/')[2]\n",
    "    key = '/'.join(s3_uri.split('/')[3:])\n",
    "\n",
    "    response = s3.get_object(Bucket=bucket, Key=key)\n",
    "    contents = response['Body'].read().decode('utf-8')\n",
    "\n",
    "    df = pd.read_csv(io.StringIO(contents))\n",
    "    return df\n",
    "\n",
    "def upload_sample_data(df, bucket:str):\n",
    "    \n",
    "    df = df.sample(n=200, replace=True)\n",
    "    df.drop(columns='isFraud', inplace=True)\n",
    "\n",
    "    today = datetime.datetime.today()\n",
    "    date_str = today.strftime('%Y-%m-%d')\n",
    "    \n",
    "    csv_string = df.to_csv(index=False)\n",
    "    object_key = f'transaction_{date_str}_fraud.csv'\n",
    "    content_type = \"text/csv\"\n",
    "    s3.put_object(Bucket=bucket, Key=object_key, Body=csv_string, ContentType=content_type)\n",
    "    \n",
    "df = create_sample_data('s3://fraud-data-manuel/Fraud.csv')\n",
    "upload_sample_data(df, 'fraud-data-manuel')\n"
   ]
  },
  {
   "cell_type": "code",
   "execution_count": null,
   "id": "68310fe5",
   "metadata": {},
   "outputs": [],
   "source": []
  }
 ],
 "metadata": {
  "kernelspec": {
   "display_name": "Python 3 (ipykernel)",
   "language": "python",
   "name": "python3"
  },
  "language_info": {
   "codemirror_mode": {
    "name": "ipython",
    "version": 3
   },
   "file_extension": ".py",
   "mimetype": "text/x-python",
   "name": "python",
   "nbconvert_exporter": "python",
   "pygments_lexer": "ipython3",
   "version": "3.9.13"
  }
 },
 "nbformat": 4,
 "nbformat_minor": 5
}
