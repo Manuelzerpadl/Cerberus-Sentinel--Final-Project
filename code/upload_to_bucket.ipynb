{
 "cells": [
  {
   "cell_type": "code",
   "execution_count": 1,
   "id": "d7a07ff2",
   "metadata": {},
   "outputs": [],
   "source": [
    "import pandas as pd\n",
    "import boto3\n",
    "import io\n",
    "import datetime\n",
    "import os\n",
    "import base64\n",
    "\n",
    "AWS_ACCESS_KEY_ID = os.getenv(\"AWS_ACCESS_KEY_ID\")\n",
    "AWS_SECRET_ACCESS_KEY = os.getenv(\"AWS_SECRET_ACCESS_KEY\")\n",
    "\n",
    "\n",
    "s3 = boto3.client('s3',\n",
    "                  aws_access_key_id= AWS_ACCESS_KEY_ID,\n",
    "                  aws_secret_access_key= AWS_SECRET_ACCESS_KEY)\n",
    "\n",
    "ec2 = boto3.resource('ec2')\n",
    "\n",
    "\n",
    "\n",
    "def create_sample_data(s3_uri:str):\n",
    "    bucket = s3_uri.split('/')[2]\n",
    "    key = '/'.join(s3_uri.split('/')[3:])\n",
    "\n",
    "    response = s3.get_object(Bucket=bucket, Key=key)\n",
    "    contents = response['Body'].read().decode('utf-8')\n",
    "\n",
    "    df = pd.read_csv(io.StringIO(contents))\n",
    "    return df\n",
    "\n",
    "def upload_sample_data(df, bucket:str):\n",
    "    \n",
    "    df = df.sample(n=200, replace=True)\n",
    "    df.drop(columns='isFraud', inplace=True)\n",
    "\n",
    "    today = datetime.datetime.today()\n",
    "    date_str = today.strftime('%Y-%m-%d')\n",
    "    \n",
    "    csv_string = df.to_csv(index=False)\n",
    "    object_key = f'transaction_{date_str}_fraud.csv'\n",
    "    content_type = \"text/csv\"\n",
    "    s3.put_object(Bucket=bucket, Key=object_key, Body=csv_string, ContentType=content_type)\n",
    "    \n",
    "#df = create_sample_data('s3://fraud-data-manuel/Fraud.csv')\n",
    "#upload_sample_data(df, 'fraud-data-manuel')"
   ]
  },
  {
   "cell_type": "code",
   "execution_count": 3,
   "id": "5ad36631",
   "metadata": {},
   "outputs": [
    {
     "name": "stdout",
     "output_type": "stream",
     "text": [
      "Instance ID: i-0926e5bbfc0c9e99b\n",
      "Public IP address: None\n",
      "Private IP address: 172.31.18.215\n"
     ]
    }
   ],
   "source": [
    "import boto3\n",
    "import os\n",
    "import time\n",
    "import paramiko\n",
    "\n",
    "def create_ec2(instance_type):\n",
    "    ec2 = boto3.resource('ec2', region_name='eu-central-1')\n",
    "    instances = ec2.create_instances(\n",
    "        ImageId='ami-06616b7884ac98cdd', # Amazon Linux 2 AMI ID\n",
    "        InstanceType=instance_type,\n",
    "        MinCount=1,\n",
    "        MaxCount=1,\n",
    "        UserData=user_data_script\n",
    "    )\n",
    "    instance = instances[0]\n",
    "    return instance.id, instance.public_ip_address, instance.private_ip_address\n",
    "\n",
    "remote_file_path = '/home/ec2-user/python_script.py'\n",
    "\n",
    "user_data_script = \"\"\"#!/bin/bash\n",
    "yum update -y\n",
    "yum install -y python3\n",
    "pip install boto3\n",
    "pip install pandas\n",
    "python3 {}\n",
    "\"\"\".format(remote_file_path)\n",
    "\n",
    "instance_id, public_ip_address, private_ip_address = create_ec2('t2.micro')"
   ]
  },
  {
   "cell_type": "code",
   "execution_count": 5,
   "id": "bd632f82",
   "metadata": {},
   "outputs": [
    {
     "name": "stdout",
     "output_type": "stream",
     "text": [
      "3.71.7.11\n"
     ]
    },
    {
     "ename": "TimeoutError",
     "evalue": "[WinError 10060] Se produjo un error durante el intento de conexión ya que la parte conectada no respondió adecuadamente tras un periodo de tiempo, o bien se produjo un error en la conexión establecida ya que el host conectado no ha podido responder",
     "output_type": "error",
     "traceback": [
      "\u001b[1;31m---------------------------------------------------------------------------\u001b[0m",
      "\u001b[1;31mTimeoutError\u001b[0m                              Traceback (most recent call last)",
      "\u001b[1;32m~\\AppData\\Local\\Temp\\ipykernel_11024\\4024248108.py\u001b[0m in \u001b[0;36m<module>\u001b[1;34m\u001b[0m\n\u001b[0;32m     20\u001b[0m \u001b[0mprint\u001b[0m\u001b[1;33m(\u001b[0m\u001b[0mpublic_ip_address\u001b[0m\u001b[1;33m)\u001b[0m\u001b[1;33m\u001b[0m\u001b[1;33m\u001b[0m\u001b[0m\n\u001b[0;32m     21\u001b[0m \u001b[1;33m\u001b[0m\u001b[0m\n\u001b[1;32m---> 22\u001b[1;33m \u001b[0mupload_file_to_ec2\u001b[0m\u001b[1;33m(\u001b[0m\u001b[0mpublic_ip_address\u001b[0m\u001b[1;33m,\u001b[0m \u001b[0mlocal_file_path\u001b[0m\u001b[1;33m,\u001b[0m \u001b[0mremote_file_path\u001b[0m\u001b[1;33m)\u001b[0m\u001b[1;33m\u001b[0m\u001b[1;33m\u001b[0m\u001b[0m\n\u001b[0m",
      "\u001b[1;32m~\\AppData\\Local\\Temp\\ipykernel_11024\\4024248108.py\u001b[0m in \u001b[0;36mupload_file_to_ec2\u001b[1;34m(ip_address, local_file_path, remote_file_path)\u001b[0m\n\u001b[0;32m      2\u001b[0m     \u001b[0mssh\u001b[0m \u001b[1;33m=\u001b[0m \u001b[0mparamiko\u001b[0m\u001b[1;33m.\u001b[0m\u001b[0mSSHClient\u001b[0m\u001b[1;33m(\u001b[0m\u001b[1;33m)\u001b[0m\u001b[1;33m\u001b[0m\u001b[1;33m\u001b[0m\u001b[0m\n\u001b[0;32m      3\u001b[0m     \u001b[0mssh\u001b[0m\u001b[1;33m.\u001b[0m\u001b[0mset_missing_host_key_policy\u001b[0m\u001b[1;33m(\u001b[0m\u001b[0mparamiko\u001b[0m\u001b[1;33m.\u001b[0m\u001b[0mAutoAddPolicy\u001b[0m\u001b[1;33m(\u001b[0m\u001b[1;33m)\u001b[0m\u001b[1;33m)\u001b[0m\u001b[1;33m\u001b[0m\u001b[1;33m\u001b[0m\u001b[0m\n\u001b[1;32m----> 4\u001b[1;33m     \u001b[0mssh\u001b[0m\u001b[1;33m.\u001b[0m\u001b[0mconnect\u001b[0m\u001b[1;33m(\u001b[0m\u001b[0mhostname\u001b[0m\u001b[1;33m=\u001b[0m\u001b[0mip_address\u001b[0m\u001b[1;33m,\u001b[0m \u001b[0musername\u001b[0m\u001b[1;33m=\u001b[0m\u001b[1;34m'ec2-user'\u001b[0m\u001b[1;33m)\u001b[0m\u001b[1;33m\u001b[0m\u001b[1;33m\u001b[0m\u001b[0m\n\u001b[0m\u001b[0;32m      5\u001b[0m     \u001b[0msftp\u001b[0m \u001b[1;33m=\u001b[0m \u001b[0mssh\u001b[0m\u001b[1;33m.\u001b[0m\u001b[0mopen_sftp\u001b[0m\u001b[1;33m(\u001b[0m\u001b[1;33m)\u001b[0m\u001b[1;33m\u001b[0m\u001b[1;33m\u001b[0m\u001b[0m\n\u001b[0;32m      6\u001b[0m     \u001b[0msftp\u001b[0m\u001b[1;33m.\u001b[0m\u001b[0mput\u001b[0m\u001b[1;33m(\u001b[0m\u001b[0mlocal_file_path\u001b[0m\u001b[1;33m,\u001b[0m \u001b[0mremote_file_path\u001b[0m\u001b[1;33m)\u001b[0m\u001b[1;33m\u001b[0m\u001b[1;33m\u001b[0m\u001b[0m\n",
      "\u001b[1;32m~\\anaconda3\\lib\\site-packages\\paramiko\\client.py\u001b[0m in \u001b[0;36mconnect\u001b[1;34m(self, hostname, port, username, password, pkey, key_filename, timeout, allow_agent, look_for_keys, compress, sock, gss_auth, gss_kex, gss_deleg_creds, gss_host, banner_timeout, auth_timeout, gss_trust_dns, passphrase, disabled_algorithms)\u001b[0m\n\u001b[0;32m    347\u001b[0m                         \u001b[1;32mexcept\u001b[0m\u001b[1;33m:\u001b[0m\u001b[1;33m\u001b[0m\u001b[1;33m\u001b[0m\u001b[0m\n\u001b[0;32m    348\u001b[0m                             \u001b[1;32mpass\u001b[0m\u001b[1;33m\u001b[0m\u001b[1;33m\u001b[0m\u001b[0m\n\u001b[1;32m--> 349\u001b[1;33m                     \u001b[0mretry_on_signal\u001b[0m\u001b[1;33m(\u001b[0m\u001b[1;32mlambda\u001b[0m\u001b[1;33m:\u001b[0m \u001b[0msock\u001b[0m\u001b[1;33m.\u001b[0m\u001b[0mconnect\u001b[0m\u001b[1;33m(\u001b[0m\u001b[0maddr\u001b[0m\u001b[1;33m)\u001b[0m\u001b[1;33m)\u001b[0m\u001b[1;33m\u001b[0m\u001b[1;33m\u001b[0m\u001b[0m\n\u001b[0m\u001b[0;32m    350\u001b[0m                     \u001b[1;31m# Break out of the loop on success\u001b[0m\u001b[1;33m\u001b[0m\u001b[1;33m\u001b[0m\u001b[0m\n\u001b[0;32m    351\u001b[0m                     \u001b[1;32mbreak\u001b[0m\u001b[1;33m\u001b[0m\u001b[1;33m\u001b[0m\u001b[0m\n",
      "\u001b[1;32m~\\anaconda3\\lib\\site-packages\\paramiko\\util.py\u001b[0m in \u001b[0;36mretry_on_signal\u001b[1;34m(function)\u001b[0m\n\u001b[0;32m    281\u001b[0m     \u001b[1;32mwhile\u001b[0m \u001b[1;32mTrue\u001b[0m\u001b[1;33m:\u001b[0m\u001b[1;33m\u001b[0m\u001b[1;33m\u001b[0m\u001b[0m\n\u001b[0;32m    282\u001b[0m         \u001b[1;32mtry\u001b[0m\u001b[1;33m:\u001b[0m\u001b[1;33m\u001b[0m\u001b[1;33m\u001b[0m\u001b[0m\n\u001b[1;32m--> 283\u001b[1;33m             \u001b[1;32mreturn\u001b[0m \u001b[0mfunction\u001b[0m\u001b[1;33m(\u001b[0m\u001b[1;33m)\u001b[0m\u001b[1;33m\u001b[0m\u001b[1;33m\u001b[0m\u001b[0m\n\u001b[0m\u001b[0;32m    284\u001b[0m         \u001b[1;32mexcept\u001b[0m \u001b[0mEnvironmentError\u001b[0m \u001b[1;32mas\u001b[0m \u001b[0me\u001b[0m\u001b[1;33m:\u001b[0m\u001b[1;33m\u001b[0m\u001b[1;33m\u001b[0m\u001b[0m\n\u001b[0;32m    285\u001b[0m             \u001b[1;32mif\u001b[0m \u001b[0me\u001b[0m\u001b[1;33m.\u001b[0m\u001b[0merrno\u001b[0m \u001b[1;33m!=\u001b[0m \u001b[0merrno\u001b[0m\u001b[1;33m.\u001b[0m\u001b[0mEINTR\u001b[0m\u001b[1;33m:\u001b[0m\u001b[1;33m\u001b[0m\u001b[1;33m\u001b[0m\u001b[0m\n",
      "\u001b[1;32m~\\anaconda3\\lib\\site-packages\\paramiko\\client.py\u001b[0m in \u001b[0;36m<lambda>\u001b[1;34m()\u001b[0m\n\u001b[0;32m    347\u001b[0m                         \u001b[1;32mexcept\u001b[0m\u001b[1;33m:\u001b[0m\u001b[1;33m\u001b[0m\u001b[1;33m\u001b[0m\u001b[0m\n\u001b[0;32m    348\u001b[0m                             \u001b[1;32mpass\u001b[0m\u001b[1;33m\u001b[0m\u001b[1;33m\u001b[0m\u001b[0m\n\u001b[1;32m--> 349\u001b[1;33m                     \u001b[0mretry_on_signal\u001b[0m\u001b[1;33m(\u001b[0m\u001b[1;32mlambda\u001b[0m\u001b[1;33m:\u001b[0m \u001b[0msock\u001b[0m\u001b[1;33m.\u001b[0m\u001b[0mconnect\u001b[0m\u001b[1;33m(\u001b[0m\u001b[0maddr\u001b[0m\u001b[1;33m)\u001b[0m\u001b[1;33m)\u001b[0m\u001b[1;33m\u001b[0m\u001b[1;33m\u001b[0m\u001b[0m\n\u001b[0m\u001b[0;32m    350\u001b[0m                     \u001b[1;31m# Break out of the loop on success\u001b[0m\u001b[1;33m\u001b[0m\u001b[1;33m\u001b[0m\u001b[0m\n\u001b[0;32m    351\u001b[0m                     \u001b[1;32mbreak\u001b[0m\u001b[1;33m\u001b[0m\u001b[1;33m\u001b[0m\u001b[0m\n",
      "\u001b[1;31mTimeoutError\u001b[0m: [WinError 10060] Se produjo un error durante el intento de conexión ya que la parte conectada no respondió adecuadamente tras un periodo de tiempo, o bien se produjo un error en la conexión establecida ya que el host conectado no ha podido responder"
     ]
    }
   ],
   "source": [
    "def upload_file_to_ec2_fromS3(instance_id, s3_uri):\n",
    "\n",
    "print(\"Instance ID:\", instance_id)\n",
    "print(\"Public IP address:\", public_ip_address)\n",
    "print(\"Private IP address:\", private_ip_address)\n"
   ]
  },
  {
   "cell_type": "code",
   "execution_count": null,
   "id": "4739101d",
   "metadata": {},
   "outputs": [],
   "source": [
    "\n",
    "def destroy_ec2(instance_id):\n",
    "    # destroy the instance created above\n",
    "    instance = ec2.Instance(instance_id)\n",
    "    response = instance.terminate()\n",
    "    return response['TerminatingInstances'][0]['CurrentState']['Name']\n",
    "\n",
    "destroy_ec2('i-0b0b1e240dd0ac79a')"
   ]
  },
  {
   "cell_type": "code",
   "execution_count": null,
   "id": "a33db1d1",
   "metadata": {},
   "outputs": [],
   "source": []
  },
  {
   "cell_type": "code",
   "execution_count": null,
   "id": "986847da",
   "metadata": {},
   "outputs": [],
   "source": []
  },
  {
   "cell_type": "code",
   "execution_count": null,
   "id": "2984b0fe",
   "metadata": {},
   "outputs": [],
   "source": []
  },
  {
   "cell_type": "code",
   "execution_count": null,
   "id": "3ddcdae6",
   "metadata": {},
   "outputs": [],
   "source": []
  },
  {
   "cell_type": "code",
   "execution_count": null,
   "id": "d54c1923",
   "metadata": {},
   "outputs": [],
   "source": [
    "if public_ip_address is None:\n",
    "    print(\"Waiting for public IP address to be assigned...\")\n",
    "    while True:\n",
    "        instance = boto3.resource('ec2', region_name='eu-central-1').Instance(instance_id)\n",
    "        instance.reload()\n",
    "        if instance.public_ip_address:\n",
    "            public_ip_address = instance.public_ip_address\n",
    "            break"
   ]
  }
 ],
 "metadata": {
  "kernelspec": {
   "display_name": "Python 3 (ipykernel)",
   "language": "python",
   "name": "python3"
  },
  "language_info": {
   "codemirror_mode": {
    "name": "ipython",
    "version": 3
   },
   "file_extension": ".py",
   "mimetype": "text/x-python",
   "name": "python",
   "nbconvert_exporter": "python",
   "pygments_lexer": "ipython3",
   "version": "3.9.13"
  }
 },
 "nbformat": 4,
 "nbformat_minor": 5
}
