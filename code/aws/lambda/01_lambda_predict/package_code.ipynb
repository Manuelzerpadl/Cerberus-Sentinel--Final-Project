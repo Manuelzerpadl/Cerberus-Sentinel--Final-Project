{
 "cells": [
  {
   "cell_type": "code",
   "execution_count": 1,
   "id": "0f13d6b8",
   "metadata": {},
   "outputs": [],
   "source": [
    "import zipfile\n",
    "import os\n",
    "\n",
    "def create_zip_file(source_dir, zip_file):\n",
    "    with zipfile.ZipFile(zip_file, 'w') as zf:\n",
    "        for root, dirs, files in os.walk(source_dir):\n",
    "            for file in files:\n",
    "                full_path = os.path.join(root, file)\n",
    "                relative_path = os.path.relpath(full_path, source_dir)\n",
    "                zf.write(full_path, arcname=relative_path)\n",
    "\n",
    "source_dir = 'lambda_package'\n",
    "zip_file = 'lambda_function.zip'\n",
    "\n",
    "create_zip_file(source_dir, zip_file)"
   ]
  },
  {
   "cell_type": "code",
   "execution_count": null,
   "id": "34efa2e0",
   "metadata": {},
   "outputs": [],
   "source": []
  }
 ],
 "metadata": {
  "kernelspec": {
   "display_name": "Python 3 (ipykernel)",
   "language": "python",
   "name": "python3"
  },
  "language_info": {
   "codemirror_mode": {
    "name": "ipython",
    "version": 3
   },
   "file_extension": ".py",
   "mimetype": "text/x-python",
   "name": "python",
   "nbconvert_exporter": "python",
   "pygments_lexer": "ipython3",
   "version": "3.9.13"
  }
 },
 "nbformat": 4,
 "nbformat_minor": 5
}
