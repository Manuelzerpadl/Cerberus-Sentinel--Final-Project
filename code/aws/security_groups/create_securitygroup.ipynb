{
 "cells": [
  {
   "cell_type": "code",
   "execution_count": 1,
   "id": "59c99d50",
   "metadata": {},
   "outputs": [],
   "source": [
    "import boto3\n",
    "\n",
    "ec2 = boto3.resource('ec2', region_name='eu-central-1')\n",
    "\n",
    "def create_security_group(security_group_name:str, vpc_id:str):\n",
    "    security_group = ec2.create_security_group(\n",
    "        GroupName=security_group_name,\n",
    "        Description='Permite SSH de todos los IPs en el puerto 22 y 5432 (EC2 Y POSTGRES)',\n",
    "        VpcId=vpc_id  # Replace with the ID of your VPC\n",
    "    )\n",
    "\n",
    "    # Add an inbound rule to allow SSH traffic from all IP addresses\n",
    "    security_group.authorize_ingress(\n",
    "        IpPermissions=[\n",
    "            {\n",
    "                'IpProtocol': 'tcp',\n",
    "                'FromPort': 22,\n",
    "                'ToPort': 22,\n",
    "                'IpRanges': [{'CidrIp': '0.0.0.0/0'}]\n",
    "            }\n",
    "        ]\n",
    "    )\n",
    "    security_group.authorize_ingress(\n",
    "        IpPermissions=[\n",
    "            {\n",
    "                'IpProtocol': 'tcp',\n",
    "                'FromPort': 5432,\n",
    "                'ToPort': 5432,\n",
    "                'IpRanges': [{'CidrIp': '0.0.0.0/0'}]\n",
    "            }\n",
    "        ]\n",
    "    )\n",
    "\n",
    "security_group_name = 'ssh-access-ec2'\n",
    "vpc_id = 'vpc-0db56f37462e87737'\n",
    "\n",
    "create_security_group(security_group_name, vpc_id)\n"
   ]
  },
  {
   "cell_type": "code",
   "execution_count": null,
   "id": "0e8094b5",
   "metadata": {},
   "outputs": [],
   "source": []
  }
 ],
 "metadata": {
  "kernelspec": {
   "display_name": "Python 3 (ipykernel)",
   "language": "python",
   "name": "python3"
  },
  "language_info": {
   "codemirror_mode": {
    "name": "ipython",
    "version": 3
   },
   "file_extension": ".py",
   "mimetype": "text/x-python",
   "name": "python",
   "nbconvert_exporter": "python",
   "pygments_lexer": "ipython3",
   "version": "3.9.13"
  }
 },
 "nbformat": 4,
 "nbformat_minor": 5
}
