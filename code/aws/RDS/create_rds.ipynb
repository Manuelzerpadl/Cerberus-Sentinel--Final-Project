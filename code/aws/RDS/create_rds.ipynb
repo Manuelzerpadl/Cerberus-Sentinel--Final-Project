{
 "cells": [
  {
   "cell_type": "code",
   "execution_count": 2,
   "id": "6fe3a780",
   "metadata": {},
   "outputs": [
    {
     "name": "stdout",
     "output_type": "stream",
     "text": [
      "RDS instance creation started: {'DBInstance': {'DBInstanceIdentifier': 'fraud-database-instance', 'DBInstanceClass': 'db.t2.micro', 'Engine': 'postgres', 'DBInstanceStatus': 'creating', 'MasterUsername': 'postgres', 'DBName': 'fraud_database', 'AllocatedStorage': 100, 'PreferredBackupWindow': '03:10-03:40', 'BackupRetentionPeriod': 1, 'DBSecurityGroups': [], 'VpcSecurityGroups': [{'VpcSecurityGroupId': 'sg-0261084aaa2663389', 'Status': 'active'}], 'DBParameterGroups': [{'DBParameterGroupName': 'default.postgres12', 'ParameterApplyStatus': 'in-sync'}], 'AvailabilityZone': 'eu-central-1a', 'DBSubnetGroup': {'DBSubnetGroupName': 'default', 'DBSubnetGroupDescription': 'default', 'VpcId': 'vpc-0db56f37462e87737', 'SubnetGroupStatus': 'Complete', 'Subnets': [{'SubnetIdentifier': 'subnet-0c0120d0985d4884d', 'SubnetAvailabilityZone': {'Name': 'eu-central-1c'}, 'SubnetOutpost': {}, 'SubnetStatus': 'Active'}, {'SubnetIdentifier': 'subnet-093a42fe8117b7627', 'SubnetAvailabilityZone': {'Name': 'eu-central-1a'}, 'SubnetOutpost': {}, 'SubnetStatus': 'Active'}, {'SubnetIdentifier': 'subnet-06304c448219cabb2', 'SubnetAvailabilityZone': {'Name': 'eu-central-1b'}, 'SubnetOutpost': {}, 'SubnetStatus': 'Active'}]}, 'PreferredMaintenanceWindow': 'sun:03:50-sun:04:20', 'PendingModifiedValues': {'MasterUserPassword': '****'}, 'MultiAZ': False, 'EngineVersion': '12.9', 'AutoMinorVersionUpgrade': True, 'ReadReplicaDBInstanceIdentifiers': [], 'LicenseModel': 'postgresql-license', 'OptionGroupMemberships': [{'OptionGroupName': 'default:postgres-12', 'Status': 'in-sync'}], 'PubliclyAccessible': True, 'StorageType': 'gp2', 'DbInstancePort': 0, 'StorageEncrypted': False, 'DbiResourceId': 'db-YM5EVLXVLEYRZWPD2FTP53HT74', 'CACertificateIdentifier': 'rds-ca-2019', 'DomainMemberships': [], 'CopyTagsToSnapshot': False, 'MonitoringInterval': 0, 'DBInstanceArn': 'arn:aws:rds:eu-central-1:547303425769:db:fraud-database-instance', 'IAMDatabaseAuthenticationEnabled': False, 'PerformanceInsightsEnabled': False, 'DeletionProtection': False, 'AssociatedRoles': [], 'TagList': [], 'CustomerOwnedIpEnabled': False, 'BackupTarget': 'region', 'NetworkType': 'IPV4', 'StorageThroughput': 0, 'CertificateDetails': {'CAIdentifier': 'rds-ca-2019'}}, 'ResponseMetadata': {'RequestId': 'f2dc0387-a598-41b5-b5d0-08f51764314c', 'HTTPStatusCode': 200, 'HTTPHeaders': {'x-amzn-requestid': 'f2dc0387-a598-41b5-b5d0-08f51764314c', 'strict-transport-security': 'max-age=31536000', 'content-type': 'text/xml', 'content-length': '4348', 'date': 'Thu, 16 Mar 2023 15:16:08 GMT'}, 'RetryAttempts': 0}}\n"
     ]
    }
   ],
   "source": [
    "import boto3\n",
    "\n",
    "rds_client = boto3.client('rds', region_name='eu-central-1')\n",
    "\n",
    "response = rds_client.create_db_instance(\n",
    "    DBInstanceIdentifier='fraud-database-instance',\n",
    "    AllocatedStorage=100,\n",
    "    DBInstanceClass='db.t2.micro',  # Free tier eligible instance type\n",
    "    Engine='postgres',\n",
    "    MasterUsername='postgres',\n",
    "    MasterUserPassword='fraudproject',\n",
    "    DBName='fraud_database',\n",
    "    VpcSecurityGroupIds=['sg-0261084aaa2663389'],\n",
    "    AvailabilityZone='eu-central-1a',\n",
    "    PubliclyAccessible=True,\n",
    "    MultiAZ=False,\n",
    "    EngineVersion='12.9',  # You can choose a different PostgreSQL version if needed\n",
    "    AutoMinorVersionUpgrade=True,\n",
    "    StorageType='gp2',\n",
    "    StorageEncrypted=False,\n",
    ")\n",
    "\n",
    "print(\"RDS instance creation started:\", response)"
   ]
  },
  {
   "cell_type": "markdown",
   "id": "5363feed",
   "metadata": {},
   "source": [
    "### "
   ]
  }
 ],
 "metadata": {
  "kernelspec": {
   "display_name": "Python 3 (ipykernel)",
   "language": "python",
   "name": "python3"
  },
  "language_info": {
   "codemirror_mode": {
    "name": "ipython",
    "version": 3
   },
   "file_extension": ".py",
   "mimetype": "text/x-python",
   "name": "python",
   "nbconvert_exporter": "python",
   "pygments_lexer": "ipython3",
   "version": "3.9.13"
  }
 },
 "nbformat": 4,
 "nbformat_minor": 5
}
