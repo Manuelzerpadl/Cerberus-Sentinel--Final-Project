{
 "cells": [
  {
   "cell_type": "code",
   "execution_count": 1,
   "id": "4bf43302",
   "metadata": {},
   "outputs": [],
   "source": [
    "import boto3\n",
    "import os\n",
    "\n",
    "AWS_ACCESS_KEY_ID = os.getenv(\"AWS_ACCESS_KEY_ID\")\n",
    "AWS_SECRET_ACCESS_KEY = os.getenv(\"AWS_SECRET_ACCESS_KEY\")\n",
    "\n",
    "s3 = boto3.client('s3', region_name= 'eu-central-1',\n",
    "                  aws_access_key_id=AWS_ACCESS_KEY_ID,\n",
    "                  aws_secret_access_key=AWS_SECRET_ACCESS_KEY)\n",
    "\n",
    "source = 'source-bucket-fraud-manuel'\n",
    "daily = 'daily-bucket-fraud-manuel'\n",
    "predicted = 'daily-bucket-fraud-predicted-manuel'\n"
   ]
  },
  {
   "cell_type": "code",
   "execution_count": 6,
   "id": "57b111d0",
   "metadata": {},
   "outputs": [
    {
     "name": "stdout",
     "output_type": "stream",
     "text": [
      "S3 bucket \"source-bucket-fraud-manuel\" created successfully.\n",
      "S3 bucket \"daily-bucket-fraud-manuel\" created successfully.\n",
      "S3 bucket \"daily-bucket-fraud-predicted-manuel\" created successfully.\n"
     ]
    }
   ],
   "source": [
    "def create_s3_bucket(bucket_name):\n",
    "    try:\n",
    "        s3.create_bucket(\n",
    "            Bucket=bucket_name,\n",
    "            CreateBucketConfiguration={\n",
    "                'LocationConstraint': 'eu-central-1'\n",
    "            },\n",
    "            ACL='private'\n",
    "        )\n",
    "        print(f'S3 bucket \"{bucket_name}\" created successfully.')\n",
    "    except Exception as e:\n",
    "        print(f'Error creating S3 bucket: {e}')\n",
    "        \n",
    "create_s3_bucket(source)\n",
    "create_s3_bucket(daily)\n",
    "create_s3_bucket(predicted)"
   ]
  },
  {
   "cell_type": "code",
   "execution_count": 4,
   "id": "020a0362",
   "metadata": {},
   "outputs": [
    {
     "name": "stdout",
     "output_type": "stream",
     "text": [
      "S3 bucket \"source-bucket-fraud-manuel\" emptied successfully.\n",
      "S3 bucket \"daily-bucket-fraud-manuel\" emptied successfully.\n",
      "S3 bucket \"daily-bucket-fraud-predicted-manuel\" emptied successfully.\n"
     ]
    }
   ],
   "source": [
    "def empty_s3_bucket(bucket_name):\n",
    "    s3 = boto3.resource('s3', region_name= 'eu-central-1')\n",
    "    try:\n",
    "        bucket = s3.Bucket(bucket_name)\n",
    "        for obj in bucket.objects.all():\n",
    "            obj.delete()\n",
    "        print(f'S3 bucket \"{bucket_name}\" emptied successfully.')\n",
    "    except Exception as e:\n",
    "        print(f'Error emptying S3 bucket: {e}')\n",
    "        \n",
    "empty_s3_bucket(source)\n",
    "empty_s3_bucket(daily)\n",
    "empty_s3_bucket(predicted)"
   ]
  },
  {
   "cell_type": "code",
   "execution_count": 5,
   "id": "b59ee3ca",
   "metadata": {},
   "outputs": [
    {
     "name": "stdout",
     "output_type": "stream",
     "text": [
      "S3 bucket \"source-bucket-fraud-manuel\" deleted successfully.\n",
      "S3 bucket \"daily-bucket-fraud-manuel\" deleted successfully.\n",
      "S3 bucket \"daily-bucket-fraud-predicted-manuel\" deleted successfully.\n"
     ]
    }
   ],
   "source": [
    "def delete_s3_bucket(bucket_name):\n",
    "    try:\n",
    "        s3.delete_bucket(Bucket=bucket_name)\n",
    "        print(f'S3 bucket \"{bucket_name}\" deleted successfully.')\n",
    "    except Exception as e:\n",
    "        print(f'Error deleting S3 bucket: {e}')\n",
    "        \n",
    "delete_s3_bucket(source)\n",
    "delete_s3_bucket(daily)\n",
    "delete_s3_bucket(predicted)"
   ]
  }
 ],
 "metadata": {
  "kernelspec": {
   "display_name": "Python 3 (ipykernel)",
   "language": "python",
   "name": "python3"
  },
  "language_info": {
   "codemirror_mode": {
    "name": "ipython",
    "version": 3
   },
   "file_extension": ".py",
   "mimetype": "text/x-python",
   "name": "python",
   "nbconvert_exporter": "python",
   "pygments_lexer": "ipython3",
   "version": "3.9.13"
  }
 },
 "nbformat": 4,
 "nbformat_minor": 5
}
