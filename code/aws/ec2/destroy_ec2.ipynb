{
 "cells": [
  {
   "cell_type": "code",
   "execution_count": null,
   "id": "107dcc1d",
   "metadata": {},
   "outputs": [],
   "source": [
    "import boto3\n",
    "import os\n",
    "\n",
    "AWS_ACCESS_KEY_ID = os.getenv(\"AWS_ACCESS_KEY_ID\")\n",
    "AWS_SECRET_ACCESS_KEY = os.getenv(\"AWS_SECRET_ACCESS_KEY\")\n",
    "\n",
    "\n",
    "def destroy_ec2(instance_id, key_pair_name):\n",
    "    ec2 = boto3.resource('ec2', region_name='eu-central-1')\n",
    "    \n",
    "    # # Terminate the EC2 instance\n",
    "    instance = ec2.Instance(instance_id)\n",
    "    instance.terminate()\n",
    "    instance.wait_until_terminated()\n",
    "\n",
    "    # Delete the key pair\n",
    "    key_pair = ec2.KeyPair(key_pair_name)\n",
    "    key_pair.delete()\n",
    "\n",
    "    print(f\"EC2 instance {instance_id}, and key pair {key_pair_name} have been destroyed.\")\n",
    "\n",
    "\n",
    "instance_id = 'i-01a1deab0965fdc3d'\n",
    "key_pair_name = 'ec2-fraud-keypair'\n",
    "\n",
    "destroy_ec2(instance_id, key_pair_name)\n"
   ]
  }
 ],
 "metadata": {
  "kernelspec": {
   "display_name": "Python 3 (ipykernel)",
   "language": "python",
   "name": "python3"
  },
  "language_info": {
   "codemirror_mode": {
    "name": "ipython",
    "version": 3
   },
   "file_extension": ".py",
   "mimetype": "text/x-python",
   "name": "python",
   "nbconvert_exporter": "python",
   "pygments_lexer": "ipython3",
   "version": "3.9.13"
  }
 },
 "nbformat": 4,
 "nbformat_minor": 5
}
