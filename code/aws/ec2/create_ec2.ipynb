{
 "cells": [
  {
   "cell_type": "code",
   "execution_count": 1,
   "id": "f5289ce4",
   "metadata": {},
   "outputs": [
    {
     "name": "stdout",
     "output_type": "stream",
     "text": [
      "i-04c4d3a7cfab60899\n"
     ]
    }
   ],
   "source": [
    "import boto3\n",
    "import os\n",
    "\n",
    "AWS_ACCESS_KEY_ID = os.getenv(\"AWS_ACCESS_KEY_ID\")\n",
    "AWS_SECRET_ACCESS_KEY = os.getenv(\"AWS_SECRET_ACCESS_KEY\")\n",
    "\n",
    "s3 = boto3.client('s3', region_name= 'eu-central-1',\n",
    "                  aws_access_key_id=AWS_ACCESS_KEY_ID,\n",
    "                  aws_secret_access_key=AWS_SECRET_ACCESS_KEY)\n",
    "\n",
    "def create_ec2(instance_type, iam_role_arn, key_name, security_group_name):\n",
    "    ec2 = boto3.resource('ec2', region_name='eu-central-1')\n",
    "    # Check if key pair exists\n",
    "    existing_key_pairs = ec2.key_pairs.filter(Filters=[{'Name': 'key-name', 'Values': [key_pair_name]}])\n",
    "    if list(existing_key_pairs):\n",
    "        # Use the existing key pair\n",
    "        key_pair = ec2.KeyPair(key_pair_name)\n",
    "    else:\n",
    "        # Create a new key pair\n",
    "        key_pair = ec2.create_key_pair(KeyName=key_pair_name)\n",
    "        # Save the private key to a file\n",
    "        with open(f\"{key_pair_name}.pem\", \"w\") as file:\n",
    "            file.write(key_pair.key_material)\n",
    "\n",
    "    # Create the IAM instance profile object\n",
    "    iam = boto3.resource('iam')\n",
    "    instance_profile = iam.InstanceProfile(iam_role_arn)\n",
    "\n",
    "    sgs = list(ec2.security_groups.filter(GroupNames=[security_group_name]))\n",
    "    security_group_id = sgs[0].id\n",
    "\n",
    "    block_device_mappings = [\n",
    "        {\n",
    "            'DeviceName': '/dev/xvda',\n",
    "            'Ebs': {\n",
    "                'VolumeSize': 30,\n",
    "                'VolumeType': 'gp2'\n",
    "            }\n",
    "        }\n",
    "    ]\n",
    "\n",
    "    instances = ec2.create_instances(\n",
    "        ImageId='ami-06616b7884ac98cdd', # Amazon Linux 2 AMI ID\n",
    "        InstanceType=instance_type,\n",
    "        MinCount=1,\n",
    "        MaxCount=1,\n",
    "        KeyName=key_name,  # <--- Add this line\n",
    "        UserData=user_data_script,\n",
    "        IamInstanceProfile={\n",
    "            'Arn': instance_profile.arn\n",
    "        },\n",
    "        BlockDeviceMappings=block_device_mappings,\n",
    "        SecurityGroupIds=[security_group_id]\n",
    "    )\n",
    "    instance = instances[0]\n",
    "    return instance.id\n",
    "\n",
    "user_data_script = \"\"\"#!/bin/bash\n",
    "sudo yum update -y\n",
    "sudo yum install -y python3\n",
    "sudo yum install -y python3-pip\n",
    "sudo yum install -y git\n",
    "pip3 install boto3\n",
    "pip3 install pandas\n",
    "git clone https://github.com/Manuelzerpadl/Final-Project.git \n",
    "python3 Final-Project/code/aws/ec2/ec2_python_script.py\n",
    "\"\"\"\n",
    "\n",
    "instance_type = 't2.large'\n",
    "iam_role_arn = 'ec2_para_s3'\n",
    "key_pair_name = 'ec2-fraud-keypair'\n",
    "security_group_name = 'ssh-access-ec2'\n",
    "\n",
    "instance_id = create_ec2(instance_type, iam_role_arn, key_pair_name, security_group_name)\n",
    "print(instance_id)\n"
   ]
  },
  {
   "cell_type": "code",
   "execution_count": null,
   "id": "48c30770",
   "metadata": {},
   "outputs": [],
   "source": []
  }
 ],
 "metadata": {
  "kernelspec": {
   "display_name": "Python 3 (ipykernel)",
   "language": "python",
   "name": "python3"
  },
  "language_info": {
   "codemirror_mode": {
    "name": "ipython",
    "version": 3
   },
   "file_extension": ".py",
   "mimetype": "text/x-python",
   "name": "python",
   "nbconvert_exporter": "python",
   "pygments_lexer": "ipython3",
   "version": "3.9.13"
  }
 },
 "nbformat": 4,
 "nbformat_minor": 5
}
