{
 "cells": [
  {
   "cell_type": "code",
   "execution_count": 3,
   "id": "1a97751a",
   "metadata": {},
   "outputs": [
    {
     "name": "stdout",
     "output_type": "stream",
     "text": [
      "Successfully uploaded transaction_2023-03-16_fraud.csv to S3 bucket daily-bucket-fraud-predicted-manuel\n"
     ]
    }
   ],
   "source": [
    "import boto3\n",
    "import pandas as pd\n",
    "import pickle\n",
    "import datetime\n",
    "import io\n",
    "from io import BytesIO\n",
    "import os\n",
    "\n",
    "AWS_ACCESS_KEY_ID = os.getenv(\"AWS_ACCESS_KEY_ID\")\n",
    "AWS_SECRET_ACCESS_KEY = os.getenv(\"AWS_SECRET_ACCESS_KEY\")\n",
    "\n",
    "s3 = boto3.client('s3', region_name= 'eu-central-1',\n",
    "                  aws_access_key_id=AWS_ACCESS_KEY_ID,\n",
    "                  aws_secret_access_key=AWS_SECRET_ACCESS_KEY)\n",
    "\n",
    "\n",
    "def read_pickle_model(bucket:str, key:str):\n",
    "    # Set up S3 client\n",
    "    # Load the file object from S3 bucket\n",
    "    file_obj = s3.get_object(Bucket=bucket, Key=key)['Body'].read()\n",
    "\n",
    "    # Load the pickle file using pickle\n",
    "    data = pickle.load(BytesIO(file_obj))\n",
    "    return data\n",
    "\n",
    "def read_csv_from_bucket(bucket:str, key:str):\n",
    "    response = s3.get_object(Bucket=bucket, Key=key)\n",
    "    contents = response['Body'].read().decode('utf-8')\n",
    "    df = pd.read_csv(io.StringIO(contents))\n",
    "    return df\n",
    "\n",
    "def evaluate_records(df:object, model:object):\n",
    "    # Make predictions on the test dataset using the trained model\n",
    "    y_pred = model.predict(df.drop(columns = ['namedest', 'nameorig']))\n",
    "    df['isfraud'] = y_pred\n",
    "    return df\n",
    "\n",
    "def upload_to_bucket(dataframe, bucket, key, date):\n",
    "    # Convert dataframe to CSV format\n",
    "    dataframe['date'] = date\n",
    "    csv_buffer = io.StringIO()\n",
    "    dataframe.to_csv(csv_buffer, index=False)\n",
    "    \n",
    "    # Connect to S3 bucket\n",
    "    s3 = boto3.resource('s3')\n",
    "    s3_object = s3.Object(bucket, key)\n",
    "    \n",
    "    # Upload CSV to S3\n",
    "    s3_object.put(Body=csv_buffer.getvalue())\n",
    "    \n",
    "    print(f'Successfully uploaded {key} to S3 bucket {bucket}')\n",
    "\n",
    "\n",
    "def main():\n",
    "    today = datetime.datetime.today()\n",
    "    date_str = today.strftime('%Y-%m-%d')\n",
    "\n",
    "    model_bucket = 'source-bucket-fraud-manuel'\n",
    "    model_file_key = 'xgb_weights.pkl'\n",
    "\n",
    "    daily_bucket = 'daily-bucket-fraud-manuel'\n",
    "    daily_key = f'transaction_{date_str}_fraud.csv'\n",
    "\n",
    "    predicted_bucket = 'daily-bucket-fraud-predicted-manuel'\n",
    "    predicted_csv_key = f'transaction_{date_str}_fraud.csv'\n",
    "    \n",
    "    df = evaluate_records(read_csv_from_bucket(daily_bucket, daily_key), read_pickle_model(model_bucket, model_file_key))\n",
    "    upload_to_bucket(df, predicted_bucket, predicted_csv_key, date_str)\n",
    "\n",
    "main()"
   ]
  },
  {
   "cell_type": "code",
   "execution_count": null,
   "id": "57579bdf",
   "metadata": {},
   "outputs": [],
   "source": []
  }
 ],
 "metadata": {
  "kernelspec": {
   "display_name": "Python 3 (ipykernel)",
   "language": "python",
   "name": "python3"
  },
  "language_info": {
   "codemirror_mode": {
    "name": "ipython",
    "version": 3
   },
   "file_extension": ".py",
   "mimetype": "text/x-python",
   "name": "python",
   "nbconvert_exporter": "python",
   "pygments_lexer": "ipython3",
   "version": "3.9.13"
  }
 },
 "nbformat": 4,
 "nbformat_minor": 5
}
