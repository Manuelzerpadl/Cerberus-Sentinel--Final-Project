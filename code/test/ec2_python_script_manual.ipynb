{
 "cells": [
  {
   "cell_type": "code",
   "execution_count": 2,
   "id": "ddca81ef",
   "metadata": {},
   "outputs": [],
   "source": [
    "import pandas as pd\n",
    "import boto3\n",
    "import io\n",
    "import datetime\n",
    "import os\n",
    "\n",
    "\n",
    "AWS_ACCESS_KEY_ID = os.getenv(\"AWS_ACCESS_KEY_ID\")\n",
    "AWS_SECRET_ACCESS_KEY = os.getenv(\"AWS_SECRET_ACCESS_KEY\")\n",
    "\n",
    "s3 = boto3.client('s3', region_name= 'eu-central-1',\n",
    "                  aws_access_key_id=AWS_ACCESS_KEY_ID,\n",
    "                  aws_secret_access_key=AWS_SECRET_ACCESS_KEY)\n",
    "\n",
    "def create_sample_data(s3_uri:str):\n",
    "    bucket = s3_uri.split('/')[2]\n",
    "    key = '/'.join(s3_uri.split('/')[3:])\n",
    "\n",
    "    response = s3.get_object(Bucket=bucket, Key=key)\n",
    "    contents = response['Body'].read().decode('utf-8')\n",
    "\n",
    "    df = pd.read_csv(io.StringIO(contents))\n",
    "    return df\n",
    "\n",
    "def upload_sample_data(df, bucket:str):\n",
    "    \n",
    "    df = df.sample(n=200, replace=True)\n",
    "    df.drop(columns='isfraud', inplace=True)\n",
    "\n",
    "    today = datetime.datetime.today()\n",
    "    date_str = today.strftime('%Y-%m-%d')\n",
    "    \n",
    "    csv_string = df.to_csv(index=False)\n",
    "    object_key = f'transaction_{date_str}_fraud.csv'\n",
    "    content_type = \"text/csv\"\n",
    "    s3.put_object(Bucket=bucket, Key=object_key, Body=csv_string, ContentType=content_type)\n",
    "    \n",
    "df = create_sample_data('s3://source-bucket-fraud-manuel/Fraud.csv')\n",
    "upload_sample_data(df, 'daily-bucket-fraud-manuel')"
   ]
  },
  {
   "cell_type": "code",
   "execution_count": null,
   "id": "f2b5e29c",
   "metadata": {},
   "outputs": [],
   "source": []
  }
 ],
 "metadata": {
  "kernelspec": {
   "display_name": "Python 3 (ipykernel)",
   "language": "python",
   "name": "python3"
  },
  "language_info": {
   "codemirror_mode": {
    "name": "ipython",
    "version": 3
   },
   "file_extension": ".py",
   "mimetype": "text/x-python",
   "name": "python",
   "nbconvert_exporter": "python",
   "pygments_lexer": "ipython3",
   "version": "3.9.13"
  }
 },
 "nbformat": 4,
 "nbformat_minor": 5
}
