{
 "cells": [
  {
   "cell_type": "code",
   "execution_count": 6,
   "id": "392c70ca",
   "metadata": {},
   "outputs": [],
   "source": [
    "import pickle\n",
    "\n",
    "import numpy as np\n",
    "import pandas as pd\n",
    "\n",
    "from sklearn.preprocessing import LabelEncoder\n",
    "from imblearn.over_sampling import SMOTE\n",
    "from sklearn.preprocessing import MinMaxScaler\n",
    "from sklearn.model_selection import train_test_split\n",
    "from sklearn.linear_model import LogisticRegression\n",
    "from sklearn.metrics import accuracy_score, confusion_matrix, classification_report\n",
    "\n",
    "import warnings\n",
    "warnings.filterwarnings('ignore')\n",
    "\n",
    "path = r\"C:\\Users\\manue\\OneDrive\\Escritorio\\Ironhack\\Proyectos\\Final-Project\\Data\\Fraud.csv\\Fraud.csv\"\n",
    "df = pd.read_csv(path)\n",
    "df.columns = [col.lower().replace(' ', '_') for col in df.columns]\n",
    "#df.drop(columns=['nameorig'], inplace=True)\n",
    "\n",
    "le = LabelEncoder()\n",
    "df['type'] = le.fit_transform(df['type'])\n",
    "df['namedest'] = le.fit_transform(df['namedest'])\n",
    "df['nameorig'] = le.fit_transform(df['nameorig'])\n",
    "X = df.drop(columns='isfraud')\n",
    "y = df['isfraud']\n",
    "\n",
    "over_sample = SMOTE(random_state=0)\n",
    "X,y = over_sample.fit_resample(X,y)\n",
    "\n",
    "\n",
    "X_train, X_test, y_train, y_test = train_test_split(X,y,test_size=0.30,random_state=0)\n",
    "\n",
    "log_reg = LogisticRegression()\n",
    "log_reg.fit(X_train,y_train)\n",
    "\n",
    "y_pred = log_reg.predict(X_test)\n",
    "\n",
    "confusion_matrix(y_test,y_pred)\n",
    "accuracy_score(y_test, y_pred)\n",
    "\n",
    "y_pred = log_reg.predict(X_test)\n",
    "\n",
    "with open('model_weights.pkl', 'wb') as file:\n",
    "    pickle.dump(log_reg.coef_, file)"
   ]
  },
  {
   "cell_type": "code",
   "execution_count": 7,
   "id": "63454a73",
   "metadata": {},
   "outputs": [
    {
     "data": {
      "text/plain": [
       "0.9485569729151285"
      ]
     },
     "execution_count": 7,
     "metadata": {},
     "output_type": "execute_result"
    }
   ],
   "source": [
    "confusion_matrix(y_test,y_pred)\n",
    "\n",
    "accuracy_score(y_test, y_pred)"
   ]
  },
  {
   "cell_type": "code",
   "execution_count": null,
   "id": "a2eef7be",
   "metadata": {},
   "outputs": [],
   "source": []
  }
 ],
 "metadata": {
  "kernelspec": {
   "display_name": "Python 3 (ipykernel)",
   "language": "python",
   "name": "python3"
  },
  "language_info": {
   "codemirror_mode": {
    "name": "ipython",
    "version": 3
   },
   "file_extension": ".py",
   "mimetype": "text/x-python",
   "name": "python",
   "nbconvert_exporter": "python",
   "pygments_lexer": "ipython3",
   "version": "3.9.13"
  }
 },
 "nbformat": 4,
 "nbformat_minor": 5
}
