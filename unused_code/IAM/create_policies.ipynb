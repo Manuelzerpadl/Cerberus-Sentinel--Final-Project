{
 "cells": [
  {
   "cell_type": "code",
   "execution_count": 1,
   "id": "df636948",
   "metadata": {},
   "outputs": [
    {
     "name": "stdout",
     "output_type": "stream",
     "text": [
      "Created IAM role 'MyLambdaS3AndRDSFullAccessRole' with ARN: arn:aws:iam::547303425769:role/MyLambdaS3AndRDSFullAccessRole\n"
     ]
    }
   ],
   "source": [
    "import boto3\n",
    "import json\n",
    "import os \n",
    "\n",
    "AWS_ACCESS_KEY_ID = os.getenv(\"AWS_ACCESS_KEY_ID\")\n",
    "AWS_SECRET_ACCESS_KEY = os.getenv(\"AWS_SECRET_ACCESS_KEY\")\n",
    "\n",
    "iam_client = boto3.client('iam', region_name = 'eu-central-1',\n",
    "                          aws_access_key_id=AWS_ACCESS_KEY_ID,\n",
    "                          aws_secret_access_key=AWS_SECRET_ACCESS_KEY)\n",
    "\n",
    "def create_iam_role(role_name, policies):\n",
    "    trust_policy = {\n",
    "        \"Version\": \"2012-10-17\",\n",
    "        \"Statement\": [\n",
    "            {\n",
    "            \"Effect\": \"Allow\",\n",
    "            \"Principal\": {\n",
    "                \"Service\": [\n",
    "                \"lambda.amazonaws.com\"\n",
    "                ]\n",
    "            },\n",
    "            \"Action\": \"sts:AssumeRole\"\n",
    "            }\n",
    "        ]\n",
    "    }\n",
    "\n",
    "    response = iam_client.create_role(\n",
    "        RoleName=role_name,\n",
    "        AssumeRolePolicyDocument=json.dumps(trust_policy),\n",
    "    )\n",
    "\n",
    "    role_arn = response['Role']['Arn']\n",
    "\n",
    "    for policy in policies:\n",
    "        iam_client.attach_role_policy(\n",
    "            RoleName=role_name,\n",
    "            PolicyArn=f\"arn:aws:iam::aws:policy/{policy}\"\n",
    "        )\n",
    "\n",
    "    return role_arn\n",
    "\n",
    "role_name = 'MyLambdaS3AndRDSFullAccessRole'\n",
    "policies = ['AmazonS3FullAccess', 'AmazonRDSFullAccess', 'service-role/AWSLambdaBasicExecutionRole']\n",
    "role_arn = create_iam_role(role_name, policies)\n",
    "\n",
    "print(f\"Created IAM role '{role_name}' with ARN: {role_arn}\")"
   ]
  },
  {
   "cell_type": "code",
   "execution_count": null,
   "id": "bec9e2a9",
   "metadata": {},
   "outputs": [],
   "source": []
  }
 ],
 "metadata": {
  "kernelspec": {
   "display_name": "Python 3 (ipykernel)",
   "language": "python",
   "name": "python3"
  },
  "language_info": {
   "codemirror_mode": {
    "name": "ipython",
    "version": 3
   },
   "file_extension": ".py",
   "mimetype": "text/x-python",
   "name": "python",
   "nbconvert_exporter": "python",
   "pygments_lexer": "ipython3",
   "version": "3.9.13"
  }
 },
 "nbformat": 4,
 "nbformat_minor": 5
}
