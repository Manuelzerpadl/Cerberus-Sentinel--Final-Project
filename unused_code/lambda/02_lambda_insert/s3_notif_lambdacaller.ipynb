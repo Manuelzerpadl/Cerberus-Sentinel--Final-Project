{
 "cells": [
  {
   "cell_type": "code",
   "execution_count": 1,
   "id": "2aed24b0",
   "metadata": {},
   "outputs": [],
   "source": [
    "import boto3\n",
    "import os\n",
    "import time\n",
    "\n",
    "AWS_ACCESS_KEY_ID = os.getenv(\"AWS_ACCESS_KEY_ID\")\n",
    "AWS_SECRET_ACCESS_KEY = os.getenv(\"AWS_SECRET_ACCESS_KEY\")\n",
    "\n",
    "lambda_client = boto3.client('lambda', region_name = 'eu-central-1')\n",
    "\n",
    "with open(\"lambda_function.zip\", \"rb\") as f:\n",
    "    zip_data = f.read()\n",
    "\n",
    "response = lambda_client.create_function(\n",
    "    FunctionName='ProcessNewS3Record',\n",
    "    Runtime='python3.8',\n",
    "    Role='arn:aws:iam::547303425769:role/MyLambdaS3AndRDSFullAccessRole',\n",
    "    Handler='lambda_function.lambda_handler',\n",
    "    Code={'ZipFile': zip_data},\n",
    "    Timeout=10,\n",
    "    MemorySize=3008,\n",
    "    Layers=[\n",
    "        'arn:aws:lambda:eu-central-1:770693421928:layer:Klayers-p38-aws-psycopg2:1',\n",
    "        'arn:aws:lambda:eu-central-1:770693421928:layer:Klayers-p38-boto3:14'\n",
    "    ]\n",
    ")\n",
    "\n",
    "lambda_function_arn = response['FunctionArn']\n",
    "\n",
    "time.sleep(15)\n",
    "\n",
    "lambda_client.add_permission(\n",
    "    FunctionName='ProcessNewS3Record',\n",
    "    StatementId='s3-trigger-permission',\n",
    "    Action='lambda:InvokeFunction',\n",
    "    Principal='s3.amazonaws.com',\n",
    "    SourceArn='arn:aws:s3:::daily-bucket-fraud-predicted-manuel',\n",
    "    SourceAccount='547303425769'\n",
    ")\n",
    "\n",
    "s3_client = boto3.client('s3', region_name = 'eu-central-1')\n",
    "\n",
    "response = s3_client.put_bucket_notification_configuration(\n",
    "    Bucket='daily-bucket-fraud-predicted-manuel',\n",
    "    NotificationConfiguration={\n",
    "        'LambdaFunctionConfigurations': [\n",
    "            {\n",
    "                'LambdaFunctionArn': lambda_function_arn,\n",
    "                'Events': ['s3:ObjectCreated:*'],\n",
    "            }\n",
    "        ]\n",
    "    }\n",
    ")"
   ]
  }
 ],
 "metadata": {
  "kernelspec": {
   "display_name": "Python 3 (ipykernel)",
   "language": "python",
   "name": "python3"
  },
  "language_info": {
   "codemirror_mode": {
    "name": "ipython",
    "version": 3
   },
   "file_extension": ".py",
   "mimetype": "text/x-python",
   "name": "python",
   "nbconvert_exporter": "python",
   "pygments_lexer": "ipython3",
   "version": "3.9.13"
  }
 },
 "nbformat": 4,
 "nbformat_minor": 5
}
