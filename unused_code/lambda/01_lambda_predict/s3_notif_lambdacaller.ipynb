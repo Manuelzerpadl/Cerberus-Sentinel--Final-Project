{
 "cells": [
  {
   "cell_type": "code",
   "execution_count": 4,
   "id": "2aed24b0",
   "metadata": {},
   "outputs": [
    {
     "ename": "ClientError",
     "evalue": "An error occurred (AccessDeniedException) when calling the CreateFunction operation: User: arn:aws:iam::547303425769:root is not authorized to perform: lambda:GetLayerVersion on resource: arn:aws:lambda:eu-central-1:184162717196:layer:xgboost_layer:1 because no resource-based policy allows the lambda:GetLayerVersion action",
     "output_type": "error",
     "traceback": [
      "\u001b[1;31m---------------------------------------------------------------------------\u001b[0m",
      "\u001b[1;31mClientError\u001b[0m                               Traceback (most recent call last)",
      "\u001b[1;32m~\\AppData\\Local\\Temp\\ipykernel_15184\\3437534550.py\u001b[0m in \u001b[0;36m<module>\u001b[1;34m\u001b[0m\n\u001b[0;32m     11\u001b[0m     \u001b[0mzip_data\u001b[0m \u001b[1;33m=\u001b[0m \u001b[0mf\u001b[0m\u001b[1;33m.\u001b[0m\u001b[0mread\u001b[0m\u001b[1;33m(\u001b[0m\u001b[1;33m)\u001b[0m\u001b[1;33m\u001b[0m\u001b[1;33m\u001b[0m\u001b[0m\n\u001b[0;32m     12\u001b[0m \u001b[1;33m\u001b[0m\u001b[0m\n\u001b[1;32m---> 13\u001b[1;33m response = lambda_client.create_function(\n\u001b[0m\u001b[0;32m     14\u001b[0m     \u001b[0mFunctionName\u001b[0m\u001b[1;33m=\u001b[0m\u001b[1;34m'PredictNewFraudS3Record'\u001b[0m\u001b[1;33m,\u001b[0m\u001b[1;33m\u001b[0m\u001b[1;33m\u001b[0m\u001b[0m\n\u001b[0;32m     15\u001b[0m     \u001b[0mRuntime\u001b[0m\u001b[1;33m=\u001b[0m\u001b[1;34m'python3.8'\u001b[0m\u001b[1;33m,\u001b[0m\u001b[1;33m\u001b[0m\u001b[1;33m\u001b[0m\u001b[0m\n",
      "\u001b[1;32m~\\anaconda3\\lib\\site-packages\\botocore\\client.py\u001b[0m in \u001b[0;36m_api_call\u001b[1;34m(self, *args, **kwargs)\u001b[0m\n\u001b[0;32m    528\u001b[0m                 )\n\u001b[0;32m    529\u001b[0m             \u001b[1;31m# The \"self\" in this scope is referring to the BaseClient.\u001b[0m\u001b[1;33m\u001b[0m\u001b[1;33m\u001b[0m\u001b[0m\n\u001b[1;32m--> 530\u001b[1;33m             \u001b[1;32mreturn\u001b[0m \u001b[0mself\u001b[0m\u001b[1;33m.\u001b[0m\u001b[0m_make_api_call\u001b[0m\u001b[1;33m(\u001b[0m\u001b[0moperation_name\u001b[0m\u001b[1;33m,\u001b[0m \u001b[0mkwargs\u001b[0m\u001b[1;33m)\u001b[0m\u001b[1;33m\u001b[0m\u001b[1;33m\u001b[0m\u001b[0m\n\u001b[0m\u001b[0;32m    531\u001b[0m \u001b[1;33m\u001b[0m\u001b[0m\n\u001b[0;32m    532\u001b[0m         \u001b[0m_api_call\u001b[0m\u001b[1;33m.\u001b[0m\u001b[0m__name__\u001b[0m \u001b[1;33m=\u001b[0m \u001b[0mstr\u001b[0m\u001b[1;33m(\u001b[0m\u001b[0mpy_operation_name\u001b[0m\u001b[1;33m)\u001b[0m\u001b[1;33m\u001b[0m\u001b[1;33m\u001b[0m\u001b[0m\n",
      "\u001b[1;32m~\\anaconda3\\lib\\site-packages\\botocore\\client.py\u001b[0m in \u001b[0;36m_make_api_call\u001b[1;34m(self, operation_name, api_params)\u001b[0m\n\u001b[0;32m    958\u001b[0m             \u001b[0merror_code\u001b[0m \u001b[1;33m=\u001b[0m \u001b[0mparsed_response\u001b[0m\u001b[1;33m.\u001b[0m\u001b[0mget\u001b[0m\u001b[1;33m(\u001b[0m\u001b[1;34m\"Error\"\u001b[0m\u001b[1;33m,\u001b[0m \u001b[1;33m{\u001b[0m\u001b[1;33m}\u001b[0m\u001b[1;33m)\u001b[0m\u001b[1;33m.\u001b[0m\u001b[0mget\u001b[0m\u001b[1;33m(\u001b[0m\u001b[1;34m\"Code\"\u001b[0m\u001b[1;33m)\u001b[0m\u001b[1;33m\u001b[0m\u001b[1;33m\u001b[0m\u001b[0m\n\u001b[0;32m    959\u001b[0m             \u001b[0merror_class\u001b[0m \u001b[1;33m=\u001b[0m \u001b[0mself\u001b[0m\u001b[1;33m.\u001b[0m\u001b[0mexceptions\u001b[0m\u001b[1;33m.\u001b[0m\u001b[0mfrom_code\u001b[0m\u001b[1;33m(\u001b[0m\u001b[0merror_code\u001b[0m\u001b[1;33m)\u001b[0m\u001b[1;33m\u001b[0m\u001b[1;33m\u001b[0m\u001b[0m\n\u001b[1;32m--> 960\u001b[1;33m             \u001b[1;32mraise\u001b[0m \u001b[0merror_class\u001b[0m\u001b[1;33m(\u001b[0m\u001b[0mparsed_response\u001b[0m\u001b[1;33m,\u001b[0m \u001b[0moperation_name\u001b[0m\u001b[1;33m)\u001b[0m\u001b[1;33m\u001b[0m\u001b[1;33m\u001b[0m\u001b[0m\n\u001b[0m\u001b[0;32m    961\u001b[0m         \u001b[1;32melse\u001b[0m\u001b[1;33m:\u001b[0m\u001b[1;33m\u001b[0m\u001b[1;33m\u001b[0m\u001b[0m\n\u001b[0;32m    962\u001b[0m             \u001b[1;32mreturn\u001b[0m \u001b[0mparsed_response\u001b[0m\u001b[1;33m\u001b[0m\u001b[1;33m\u001b[0m\u001b[0m\n",
      "\u001b[1;31mClientError\u001b[0m: An error occurred (AccessDeniedException) when calling the CreateFunction operation: User: arn:aws:iam::547303425769:root is not authorized to perform: lambda:GetLayerVersion on resource: arn:aws:lambda:eu-central-1:184162717196:layer:xgboost_layer:1 because no resource-based policy allows the lambda:GetLayerVersion action"
     ]
    }
   ],
   "source": [
    "import boto3\n",
    "import os\n",
    "import time\n",
    "\n",
    "AWS_ACCESS_KEY_ID = os.getenv(\"AWS_ACCESS_KEY_ID\")\n",
    "AWS_SECRET_ACCESS_KEY = os.getenv(\"AWS_SECRET_ACCESS_KEY\")\n",
    "\n",
    "lambda_client = boto3.client('lambda', region_name = 'eu-central-1')\n",
    "\n",
    "with open(\"lambda_function.zip\", \"rb\") as f:\n",
    "    zip_data = f.read()\n",
    "\n",
    "response = lambda_client.create_function(\n",
    "    FunctionName='PredictNewFraudS3Record',\n",
    "    Runtime='python3.8',\n",
    "    Role='arn:aws:iam::547303425769:role/MyLambdaS3AndRDSFullAccessRole',\n",
    "    Handler='lambda_function.lambda_handler',\n",
    "    Code={'ZipFile': zip_data},\n",
    "    Timeout=10,\n",
    "    MemorySize=3008,\n",
    "    Layers=[\n",
    "        'arn:aws:lambda:eu-central-1:770693421928:layer:Klayers-p38-pandas:13',\n",
    "        'arn:aws:lambda:eu-central-1:770693421928:layer:Klayers-p38-boto3:14',\n",
    "        'arn:aws:lambda:eu-central-1:184162717196:layer:xgboost_layer:1'\n",
    "    ]\n",
    ")\n",
    "\n",
    "lambda_function_arn = response['FunctionArn']\n",
    "\n",
    "time.sleep(15)\n",
    "\n",
    "lambda_client.add_permission(\n",
    "    FunctionName='PredictNewFraudS3Record',\n",
    "    StatementId='s3-trigger-permission',\n",
    "    Action='lambda:InvokeFunction',\n",
    "    Principal='s3.amazonaws.com',\n",
    "    SourceArn='arn:aws:s3:::daily-bucket-fraud-manuel',\n",
    "    SourceAccount='547303425769'\n",
    ")\n",
    "\n",
    "s3_client = boto3.client('s3', region_name = 'eu-central-1')\n",
    "\n",
    "response = s3_client.put_bucket_notification_configuration(\n",
    "    Bucket='daily-bucket-fraud-manuel',\n",
    "    NotificationConfiguration={\n",
    "        'LambdaFunctionConfigurations': [\n",
    "            {\n",
    "                'LambdaFunctionArn': lambda_function_arn,\n",
    "                'Events': ['s3:ObjectCreated:*'],\n",
    "            }\n",
    "        ]\n",
    "    }\n",
    ")"
   ]
  },
  {
   "cell_type": "code",
   "execution_count": null,
   "id": "6ddb2cc6",
   "metadata": {},
   "outputs": [],
   "source": [
    "Layers=[\n",
    "        'arn:aws:lambda:eu-central-1:770693421928:layer:Klayers-p38-pandas:13',\n",
    "        'arn:aws:lambda:eu-central-1:770693421928:layer:Klayers-p38-boto3:14',\n",
    "        'arn:aws:lambda:eu-central-1:770693421928:layer:Klayers-p38-aws-psycopg2:1'\n",
    "    ]"
   ]
  }
 ],
 "metadata": {
  "kernelspec": {
   "display_name": "Python 3 (ipykernel)",
   "language": "python",
   "name": "python3"
  },
  "language_info": {
   "codemirror_mode": {
    "name": "ipython",
    "version": 3
   },
   "file_extension": ".py",
   "mimetype": "text/x-python",
   "name": "python",
   "nbconvert_exporter": "python",
   "pygments_lexer": "ipython3",
   "version": "3.9.13"
  }
 },
 "nbformat": 4,
 "nbformat_minor": 5
}
